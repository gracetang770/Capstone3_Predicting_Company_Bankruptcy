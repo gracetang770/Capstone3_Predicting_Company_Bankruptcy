{
 "cells": [
  {
   "cell_type": "markdown",
   "metadata": {},
   "source": [
    "# 4 Preprocessing and Training Data Development "
   ]
  },
  {
   "cell_type": "markdown",
   "metadata": {},
   "source": [
    "## Table of Contents:\n",
    "\n",
    "* [4.1 Introduction](#4.1)\n",
    "* [4.2 Import Packages](#4.2)\n",
    "* [4.3 Load the Data](#4.3)\n",
    "* [4.4 Train/Test Split](#4.4)\n",
    "    * [4.4.1 Exporting the Data](#4.4.1)\n",
    "* [4.5 Preprocessing with Scaling, PCA, and K-Means Clustering](#4.5)\n",
    "* [4.6 Upsampling with SMOTE](#4.6)\n",
    "    * [4.6.1 Exporting the Data](#4.6.1)\n",
    "* [4.7 Baseline Model: Logistic Regression](#4.7)\n",
    "* [4.8 Summary and Next Steps](#4.8)"
   ]
  },
  {
   "cell_type": "markdown",
   "metadata": {},
   "source": [
    "## 4.1 Introduction<a id='4.1'></a>"
   ]
  },
  {
   "cell_type": "markdown",
   "metadata": {},
   "source": [
    "In our previous notebook, \"Step 3 - Exploratory Data Analysis\", we used PCA and t-SNE for dimensionality reduction and visualizating the data. We also used K-Means clustering to generate cluster labels on the PCA data.\n",
    "\n",
    "Our objective in this notebook is to generate a train and test set for our future models, as well as use Logistic Regression as a \"baseline\" model. \n",
    "\n",
    "In this notebook, we will do the following:\n",
    "* Conduct a train/test split.\n",
    "* Scale and process the training data in the same way as we did in the previous notebook: scale with np.log1p and StandardScaler, dimensionality reduction with PCA, and generate labels with K-Mean Clustering. The K-Means cluster labels will be one-hot-encoded.\n",
    "* Upsample the minority class with Synthetic Minority Oversampling TEchnique (SMOTE).\n",
    "* Run Logistic Regression as a baseline model against the training data.\n",
    "* Export the processed data."
   ]
  },
  {
   "cell_type": "markdown",
   "metadata": {},
   "source": [
    "## 4.2 Import Packages<a id='4.2'></a>"
   ]
  },
  {
   "cell_type": "code",
   "execution_count": 1,
   "metadata": {},
   "outputs": [],
   "source": [
    "import pandas as pd\n",
    "import numpy as np\n",
    "import os\n",
    "import matplotlib.pyplot as plt\n",
    "from matplotlib.ticker import NullFormatter\n",
    "import seaborn as sns\n",
    "from sklearn.decomposition import PCA\n",
    "from sklearn.preprocessing import StandardScaler, RobustScaler, PowerTransformer, QuantileTransformer\n",
    "from sklearn.model_selection import train_test_split, cross_validate, GridSearchCV, RandomizedSearchCV, learning_curve\n",
    "from sklearn.linear_model import LogisticRegression\n",
    "from sklearn.manifold import TSNE\n",
    "from sklearn.cluster import KMeans\n",
    "from sklearn.metrics import silhouette_samples, silhouette_score\n",
    "from sklearn.metrics import auc, precision_recall_curve, plot_precision_recall_curve\n",
    "from sklearn.metrics import average_precision_score\n",
    "from sklearn.metrics import f1_score, precision_score, recall_score, accuracy_score\n",
    "from sklearn.metrics import classification_report, confusion_matrix, roc_curve, roc_auc_score, auc\n",
    "\n",
    "from imblearn.over_sampling import SMOTE\n",
    "import timeit\n",
    "import time\n",
    "import random"
   ]
  },
  {
   "cell_type": "markdown",
   "metadata": {},
   "source": [
    "## 4.3 Load the Data<a id='4.3'></a>"
   ]
  },
  {
   "cell_type": "code",
   "execution_count": 4,
   "metadata": {},
   "outputs": [
    {
     "data": {
      "text/html": [
       "<div>\n",
       "<style scoped>\n",
       "    .dataframe tbody tr th:only-of-type {\n",
       "        vertical-align: middle;\n",
       "    }\n",
       "\n",
       "    .dataframe tbody tr th {\n",
       "        vertical-align: top;\n",
       "    }\n",
       "\n",
       "    .dataframe thead th {\n",
       "        text-align: right;\n",
       "    }\n",
       "</style>\n",
       "<table border=\"1\" class=\"dataframe\">\n",
       "  <thead>\n",
       "    <tr style=\"text-align: right;\">\n",
       "      <th></th>\n",
       "      <th>Bankrupt?</th>\n",
       "      <th>ROA(C) before interest and depreciation before interest</th>\n",
       "      <th>ROA(A) before interest and % after tax</th>\n",
       "      <th>ROA(B) before interest and depreciation after tax</th>\n",
       "      <th>Operating Gross Margin</th>\n",
       "      <th>Realized Sales Gross Margin</th>\n",
       "      <th>Operating Profit Rate</th>\n",
       "      <th>Pre-tax net Interest Rate</th>\n",
       "      <th>After-tax net Interest Rate</th>\n",
       "      <th>Non-industry income and expenditure/revenue</th>\n",
       "      <th>...</th>\n",
       "      <th>Liability-Assets Flag</th>\n",
       "      <th>Net Income to Total Assets</th>\n",
       "      <th>Total assets to GNP price</th>\n",
       "      <th>No-credit Interval</th>\n",
       "      <th>Gross Profit to Sales</th>\n",
       "      <th>Net Income to Stockholder's Equity</th>\n",
       "      <th>Liability to Equity</th>\n",
       "      <th>Degree of Financial Leverage (DFL)</th>\n",
       "      <th>Interest Coverage Ratio (Interest expense to EBIT)</th>\n",
       "      <th>Equity to Liability</th>\n",
       "    </tr>\n",
       "  </thead>\n",
       "  <tbody>\n",
       "    <tr>\n",
       "      <th>0</th>\n",
       "      <td>1</td>\n",
       "      <td>0.370594</td>\n",
       "      <td>0.424389</td>\n",
       "      <td>0.405750</td>\n",
       "      <td>0.601457</td>\n",
       "      <td>0.601457</td>\n",
       "      <td>0.998969</td>\n",
       "      <td>0.796887</td>\n",
       "      <td>0.808809</td>\n",
       "      <td>0.302646</td>\n",
       "      <td>...</td>\n",
       "      <td>0</td>\n",
       "      <td>0.716845</td>\n",
       "      <td>0.009219</td>\n",
       "      <td>0.622879</td>\n",
       "      <td>0.601453</td>\n",
       "      <td>0.827890</td>\n",
       "      <td>0.290202</td>\n",
       "      <td>0.026601</td>\n",
       "      <td>0.564050</td>\n",
       "      <td>0.016469</td>\n",
       "    </tr>\n",
       "    <tr>\n",
       "      <th>1</th>\n",
       "      <td>1</td>\n",
       "      <td>0.464291</td>\n",
       "      <td>0.538214</td>\n",
       "      <td>0.516730</td>\n",
       "      <td>0.610235</td>\n",
       "      <td>0.610235</td>\n",
       "      <td>0.998946</td>\n",
       "      <td>0.797380</td>\n",
       "      <td>0.809301</td>\n",
       "      <td>0.303556</td>\n",
       "      <td>...</td>\n",
       "      <td>0</td>\n",
       "      <td>0.795297</td>\n",
       "      <td>0.008323</td>\n",
       "      <td>0.623652</td>\n",
       "      <td>0.610237</td>\n",
       "      <td>0.839969</td>\n",
       "      <td>0.283846</td>\n",
       "      <td>0.264577</td>\n",
       "      <td>0.570175</td>\n",
       "      <td>0.020794</td>\n",
       "    </tr>\n",
       "    <tr>\n",
       "      <th>2</th>\n",
       "      <td>1</td>\n",
       "      <td>0.426071</td>\n",
       "      <td>0.499019</td>\n",
       "      <td>0.472295</td>\n",
       "      <td>0.601450</td>\n",
       "      <td>0.601364</td>\n",
       "      <td>0.998857</td>\n",
       "      <td>0.796403</td>\n",
       "      <td>0.808388</td>\n",
       "      <td>0.302035</td>\n",
       "      <td>...</td>\n",
       "      <td>0</td>\n",
       "      <td>0.774670</td>\n",
       "      <td>0.040003</td>\n",
       "      <td>0.623841</td>\n",
       "      <td>0.601449</td>\n",
       "      <td>0.836774</td>\n",
       "      <td>0.290189</td>\n",
       "      <td>0.026555</td>\n",
       "      <td>0.563706</td>\n",
       "      <td>0.016474</td>\n",
       "    </tr>\n",
       "    <tr>\n",
       "      <th>3</th>\n",
       "      <td>1</td>\n",
       "      <td>0.399844</td>\n",
       "      <td>0.451265</td>\n",
       "      <td>0.457733</td>\n",
       "      <td>0.583541</td>\n",
       "      <td>0.583541</td>\n",
       "      <td>0.998700</td>\n",
       "      <td>0.796967</td>\n",
       "      <td>0.808966</td>\n",
       "      <td>0.303350</td>\n",
       "      <td>...</td>\n",
       "      <td>0</td>\n",
       "      <td>0.739555</td>\n",
       "      <td>0.003252</td>\n",
       "      <td>0.622929</td>\n",
       "      <td>0.583538</td>\n",
       "      <td>0.834697</td>\n",
       "      <td>0.281721</td>\n",
       "      <td>0.026697</td>\n",
       "      <td>0.564663</td>\n",
       "      <td>0.023982</td>\n",
       "    </tr>\n",
       "    <tr>\n",
       "      <th>4</th>\n",
       "      <td>1</td>\n",
       "      <td>0.465022</td>\n",
       "      <td>0.538432</td>\n",
       "      <td>0.522298</td>\n",
       "      <td>0.598783</td>\n",
       "      <td>0.598783</td>\n",
       "      <td>0.998973</td>\n",
       "      <td>0.797366</td>\n",
       "      <td>0.809304</td>\n",
       "      <td>0.303475</td>\n",
       "      <td>...</td>\n",
       "      <td>0</td>\n",
       "      <td>0.795016</td>\n",
       "      <td>0.003878</td>\n",
       "      <td>0.623521</td>\n",
       "      <td>0.598782</td>\n",
       "      <td>0.839973</td>\n",
       "      <td>0.278514</td>\n",
       "      <td>0.024752</td>\n",
       "      <td>0.575617</td>\n",
       "      <td>0.035490</td>\n",
       "    </tr>\n",
       "  </tbody>\n",
       "</table>\n",
       "<p>5 rows × 95 columns</p>\n",
       "</div>"
      ],
      "text/plain": [
       "   Bankrupt?  ROA(C) before interest and depreciation before interest  \\\n",
       "0          1                                           0.370594         \n",
       "1          1                                           0.464291         \n",
       "2          1                                           0.426071         \n",
       "3          1                                           0.399844         \n",
       "4          1                                           0.465022         \n",
       "\n",
       "   ROA(A) before interest and % after tax  \\\n",
       "0                                0.424389   \n",
       "1                                0.538214   \n",
       "2                                0.499019   \n",
       "3                                0.451265   \n",
       "4                                0.538432   \n",
       "\n",
       "   ROA(B) before interest and depreciation after tax  Operating Gross Margin  \\\n",
       "0                                           0.405750                0.601457   \n",
       "1                                           0.516730                0.610235   \n",
       "2                                           0.472295                0.601450   \n",
       "3                                           0.457733                0.583541   \n",
       "4                                           0.522298                0.598783   \n",
       "\n",
       "   Realized Sales Gross Margin  Operating Profit Rate  \\\n",
       "0                     0.601457               0.998969   \n",
       "1                     0.610235               0.998946   \n",
       "2                     0.601364               0.998857   \n",
       "3                     0.583541               0.998700   \n",
       "4                     0.598783               0.998973   \n",
       "\n",
       "   Pre-tax net Interest Rate  After-tax net Interest Rate  \\\n",
       "0                   0.796887                     0.808809   \n",
       "1                   0.797380                     0.809301   \n",
       "2                   0.796403                     0.808388   \n",
       "3                   0.796967                     0.808966   \n",
       "4                   0.797366                     0.809304   \n",
       "\n",
       "   Non-industry income and expenditure/revenue  ...  Liability-Assets Flag  \\\n",
       "0                                     0.302646  ...                      0   \n",
       "1                                     0.303556  ...                      0   \n",
       "2                                     0.302035  ...                      0   \n",
       "3                                     0.303350  ...                      0   \n",
       "4                                     0.303475  ...                      0   \n",
       "\n",
       "   Net Income to Total Assets  Total assets to GNP price  No-credit Interval  \\\n",
       "0                    0.716845                   0.009219            0.622879   \n",
       "1                    0.795297                   0.008323            0.623652   \n",
       "2                    0.774670                   0.040003            0.623841   \n",
       "3                    0.739555                   0.003252            0.622929   \n",
       "4                    0.795016                   0.003878            0.623521   \n",
       "\n",
       "   Gross Profit to Sales  Net Income to Stockholder's Equity  \\\n",
       "0               0.601453                            0.827890   \n",
       "1               0.610237                            0.839969   \n",
       "2               0.601449                            0.836774   \n",
       "3               0.583538                            0.834697   \n",
       "4               0.598782                            0.839973   \n",
       "\n",
       "   Liability to Equity  Degree of Financial Leverage (DFL)  \\\n",
       "0             0.290202                            0.026601   \n",
       "1             0.283846                            0.264577   \n",
       "2             0.290189                            0.026555   \n",
       "3             0.281721                            0.026697   \n",
       "4             0.278514                            0.024752   \n",
       "\n",
       "   Interest Coverage Ratio (Interest expense to EBIT)  Equity to Liability  \n",
       "0                                           0.564050              0.016469  \n",
       "1                                           0.570175              0.020794  \n",
       "2                                           0.563706              0.016474  \n",
       "3                                           0.564663              0.023982  \n",
       "4                                           0.575617              0.035490  \n",
       "\n",
       "[5 rows x 95 columns]"
      ]
     },
     "execution_count": 4,
     "metadata": {},
     "output_type": "execute_result"
    }
   ],
   "source": [
    "df = pd.read_csv('data_wrangled.csv')\n",
    "df = df.drop(columns=['Unnamed: 0'])\n",
    "df.head()"
   ]
  },
  {
   "cell_type": "markdown",
   "metadata": {},
   "source": [
    "## 4.4 Train/Test Split<a id='4.4'></a>"
   ]
  },
  {
   "cell_type": "markdown",
   "metadata": {},
   "source": [
    "Prior to conducting a train/test split, we should make sure that our bankruptcy datapoints is split evenly between the train and test sets. Since we have 220 bankruptcies, a 70/30 split would result in 154/66 bankruptcies in the train/test sets."
   ]
  },
  {
   "cell_type": "code",
   "execution_count": 5,
   "metadata": {},
   "outputs": [
    {
     "data": {
      "text/plain": [
       "(154, 66)"
      ]
     },
     "execution_count": 5,
     "metadata": {},
     "output_type": "execute_result"
    }
   ],
   "source": [
    "X_train, X_test, y_train, y_test = train_test_split(df.drop(columns=['Bankrupt?']), \n",
    "                                                    df['Bankrupt?'], test_size=0.3, \n",
    "                                                    random_state=5)\n",
    "y_train.sum(), y_test.sum()"
   ]
  },
  {
   "cell_type": "markdown",
   "metadata": {},
   "source": [
    "Fortunately with random_state=5, we get an even 70/30 split in the minority class. If that were not the case, another approach to generating an even split can be found in the following coding cell:"
   ]
  },
  {
   "cell_type": "code",
   "execution_count": 6,
   "metadata": {},
   "outputs": [],
   "source": [
    "# df_bankruptcies = df[df['Bankrupt?']==1] #only the bankrupt companies\n",
    "# df_non_bankruptcies = df[df['Bankrupt?']==0] #only the non-bankrupt companies\n",
    "\n",
    "# #conduct a 70/30 train/test split on each set, then merge them together.\n",
    "\n",
    "# X_train_b, X_test_b, y_train_b, y_test_b = train_test_split(df_bankruptcies.drop(columns=['Bankrupt?']), \n",
    "#                                                     df_bankruptcies['Bankrupt?'], test_size=0.3, \n",
    "#                                                     random_state=42)\n",
    "\n",
    "# X_train_nb, X_test_nb, y_train_nb, y_test_nb = train_test_split(df_non_bankruptcies.drop(columns=['Bankrupt?']), \n",
    "#                                                     df_non_bankruptcies['Bankrupt?'], test_size=0.3, \n",
    "#                                                     random_state=42)\n",
    "\n",
    "# X_train = pd.concat([X_train_b, X_train_nb], ignore_index=True)\n",
    "# X_test = pd.concat([X_test_b, X_test_nb], ignore_index=True) \n",
    "# y_train = pd.concat([y_train_b, y_train_nb], ignore_index=True)\n",
    "# y_test = pd.concat([y_test_b, y_test_nb], ignore_index=True)\n",
    "\n",
    "# X_train.shape, X_test.shape, y_train.shape, y_test.shape"
   ]
  },
  {
   "cell_type": "markdown",
   "metadata": {},
   "source": [
    "### 4.4.1 Exporting the Data<a id='4.4.1'></a>\n",
    "\n",
    "In our Modeling step, we plan to create a pipeline that will scale, transform, upsample, and model the data. Since that is the case, it is important to have our raw data available. We export our train/test data as CSV files."
   ]
  },
  {
   "cell_type": "code",
   "execution_count": 7,
   "metadata": {},
   "outputs": [],
   "source": [
    "#Export our train/test data\n",
    "\n",
    "X_train.to_csv('X_train.csv')\n",
    "X_test.to_csv('X_test.csv')\n",
    "y_train.to_csv('y_train.csv')\n",
    "y_test.to_csv('y_test.csv')"
   ]
  },
  {
   "cell_type": "markdown",
   "metadata": {},
   "source": [
    "## 4.5 Preprocessing with Scaling, PCA, and K-Means Clustering<a id='4.5'></a>\n",
    "\n",
    "In this section, we want to scale and process the training data in the same way as we did in the previous notebook: scale with np.log1p and StandardScaler, reduce dimensions with PCA, and generate labels with K-Mean Clustering. The K-Means cluster labels will then be one-hot-encoded. \n",
    "\n",
    "All of these steps will be fit_transformed on the training data, and then transformed against the test data. This is so that things like PCA and K-Means only see our training data, and the test data remains unpolluted."
   ]
  },
  {
   "cell_type": "code",
   "execution_count": 8,
   "metadata": {},
   "outputs": [],
   "source": [
    "#Scale the train and test data\n",
    "\n",
    "#Log. use log1p (ln(1+x)) to avoid log(0) errors\n",
    "X_train_log = np.log1p(X_train)\n",
    "X_test_log = np.log1p(X_test)\n",
    "\n",
    "#StandardScaler()\n",
    "scaler = StandardScaler()\n",
    "scaler.fit(X_train_log) #fit only on train set\n",
    "X_train_scaled = scaler.transform(X_train_log) #transform train set\n",
    "X_test_scaled = scaler.transform(X_test_log) #transform test set"
   ]
  },
  {
   "cell_type": "code",
   "execution_count": 9,
   "metadata": {},
   "outputs": [
    {
     "name": "stdout",
     "output_type": "stream",
     "text": [
      "The mean of the scaled train data is: 4.3497703795701243e-16\n",
      "The std dev of the scaled traindata is: 0.9999999999999999\n",
      "\n",
      "The mean of the scaled test data is: -0.0041974807604753875\n",
      "The std dev of the scaled test data is: 3.7971020837776304\n"
     ]
    }
   ],
   "source": [
    "#Verify the scaling. Since we used StandardScaler, the mean should be near 0 and stddev near 1.\n",
    "print('The mean of the scaled train data is:', X_train_scaled.mean())\n",
    "print('The std dev of the scaled traindata is:', X_train_scaled.std())\n",
    "print()\n",
    "print('The mean of the scaled test data is:', X_test_scaled.mean())\n",
    "print('The std dev of the scaled test data is:', X_test_scaled.std())\n",
    "\n",
    "#the results are as we expect. For the train set, the mean is close to zero, and stddev is 1.\n",
    "#For the test set, the std dev is 3.80, and that's OK, since our StandardScaler did not see it, we expect it to be off."
   ]
  },
  {
   "cell_type": "code",
   "execution_count": 10,
   "metadata": {},
   "outputs": [
    {
     "data": {
      "image/png": "[encoded data removed]",
      "text/plain": [
       "<Figure size 720x288 with 1 Axes>"
      ]
     },
     "metadata": {
      "needs_background": "light"
     },
     "output_type": "display_data"
    }
   ],
   "source": [
    "#Fit the PCA to the scaled data, and plot the Scree Plot to determine how many components to keep\n",
    "pca = PCA()\n",
    "bankruptcy_pca = pca.fit(X_train_scaled)\n",
    "\n",
    "fig, ax = plt.subplots(figsize=(10,4))\n",
    "y_pca = pca.explained_variance_ratio_\n",
    "x_pca = np.arange(len(y_pca))+1\n",
    "plt.plot(x_pca, y_pca, 'r.-')\n",
    "plt.title('PCA Scree Plot')\n",
    "plt.xlabel('Principal Component')\n",
    "plt.ylabel('Proportion of Variance Explained')\n",
    "plt.xlim([0,50]) #image only the first 50 components to save space\n",
    "plt.show()"
   ]
  },
  {
   "cell_type": "code",
   "execution_count": 11,
   "metadata": {},
   "outputs": [
    {
     "data": {
      "image/png": "[encoded data removed]",
      "text/plain": [
       "<Figure size 720x432 with 1 Axes>"
      ]
     },
     "metadata": {
      "needs_background": "light"
     },
     "output_type": "display_data"
    }
   ],
   "source": [
    "#Plot the cumulative variance ratio with number of components.\n",
    "\n",
    "_=plt.subplots(figsize=(10,6))\n",
    "_=plt.plot(bankruptcy_pca.explained_variance_ratio_.cumsum())\n",
    "_=plt.xlabel('Component #')\n",
    "_=plt.ylabel('Cumulative ratio variance')\n",
    "_=plt.title('Cumulative variance ratio explained by PCA components')\n",
    "\n",
    "points_of_interest = [0,8,24,34,49] #pick several point to annotate.\n",
    "B = []\n",
    "for i in points_of_interest:\n",
    "    C = pca.explained_variance_ratio_.cumsum()[i]\n",
    "    B.append(round(C,2))\n",
    "A= points_of_interest\n",
    "\n",
    "for xy in zip(A, B):\n",
    "    plt.annotate('(%s, %s)' % xy, xy=xy, textcoords='data')"
   ]
  },
  {
   "cell_type": "markdown",
   "metadata": {},
   "source": [
    "From the scree plot, we see an elbow at PCs 3 and 6, but from the cumulative variance ratio, we know that keeping just 6 PCs does not even explain up to 50% of the variance in the data.\n",
    "\n",
    "From the cumulative variance ratio plot, we see that 9 components explain 50% of the variance, 25 explain 75%, 35 explain 85%, and 50 explain 95% of the variance. We will proceed with 50 components."
   ]
  },
  {
   "cell_type": "code",
   "execution_count": 12,
   "metadata": {},
   "outputs": [
    {
     "name": "stdout",
     "output_type": "stream",
     "text": [
      "The explained variance of the first 50 PCs: 95.04 %\n",
      "(4773, 50) (2046, 50)\n"
     ]
    }
   ],
   "source": [
    "#Use PCA to reduce from 94 to 50 components\n",
    "pca_50 = PCA(n_components=50)\n",
    "X_train_pca = pca_50.fit_transform(X_train_scaled) #fit/transform only on the training set\n",
    "X_test_pca = pca_50.transform(X_test_scaled) # transform the test set\n",
    "print('The explained variance of the first 50 PCs:', round(pca_50.explained_variance_ratio_.cumsum()[-1]*100,2),'%')\n",
    "\n",
    "#Check that it has indeed been reduced to 50 features\n",
    "print(X_train_pca.shape, X_test_pca.shape)"
   ]
  },
  {
   "cell_type": "code",
   "execution_count": 13,
   "metadata": {},
   "outputs": [
    {
     "data": {
      "image/png": "[encoded data removed]",
      "text/plain": [
       "<Figure size 432x288 with 1 Axes>"
      ]
     },
     "metadata": {
      "needs_background": "light"
     },
     "output_type": "display_data"
    }
   ],
   "source": [
    "#Plot the KMeans inertia against n_components, and use the elbow method to select number of clusters.\n",
    "#Here we run KMeans against the PCA transformed train data\n",
    "x_ss = []\n",
    "y_ss = []\n",
    "\n",
    "for n in range(2,16):\n",
    "    kmeans = KMeans(n_clusters=n, random_state=42).fit(X_train_pca)\n",
    "    x_ss.append(n)\n",
    "    y_ss.append(kmeans.inertia_) #Sum of squared distances of samples to their closest cluster center.\n",
    "\n",
    "_=plt.xlabel('K clusters')\n",
    "_=plt.ylabel('Sum of Squares')\n",
    "_=plt.title('KMeans Clustering: K versus SS on the PCA Train Set')\n",
    "_=sns.lineplot(x_ss,y_ss, marker='o', size=100, legend=False)\n",
    "\n",
    "#looking at the graph below, the elbow appears to occus at K=7 and K=11"
   ]
  },
  {
   "cell_type": "code",
   "execution_count": 14,
   "metadata": {},
   "outputs": [
    {
     "name": "stdout",
     "output_type": "stream",
     "text": [
      "The max silhouette score for the PCA-transformed train set is:  0.08411927631578847  with n_clusters:  14\n"
     ]
    }
   ],
   "source": [
    "#Since it's not clear whether to select K=7 or K=11, find the max silhouette score for that range of numbers.\n",
    "cluster = []\n",
    "score = []\n",
    "\n",
    "range_n_clusters = np.arange(7,15) #start at 7, where we see the first elbow\n",
    "for n_clusters in range_n_clusters:\n",
    "    clusterer = KMeans(n_clusters=n_clusters, random_state=42)\n",
    "    cluster_labels = clusterer.fit_predict(X_train_pca)\n",
    "    silhouette_avg = silhouette_score(X_train_pca, cluster_labels)\n",
    "    cluster.append(n_clusters)\n",
    "    score.append(silhouette_avg)\n",
    "\n",
    "max_score = max(score)\n",
    "max_score_index = score.index(max_score)\n",
    "max_score_cluster = cluster[max_score_index]\n",
    "print(\"The max silhouette score for the PCA-transformed train set is: \", max_score, \" with n_clusters: \", max_score_cluster)\n"
   ]
  },
  {
   "cell_type": "markdown",
   "metadata": {},
   "source": [
    "Silhouette scores below 0.25 is weak and may be artificial, so we will disregard the result from the silhouette score and instead focus on the elbow. We proceed with n_clusters=7."
   ]
  },
  {
   "cell_type": "code",
   "execution_count": 15,
   "metadata": {},
   "outputs": [
    {
     "name": "stdout",
     "output_type": "stream",
     "text": [
      "[0, 1, 2, 3, 4, 5, 6]\n",
      "[322, 1229, 395, 3, 3, 1677, 1144]\n",
      "[0, 20, 80, 0, 1, 49, 4]\n",
      "Label: 0 , Percent Bankrupt: 0.0 %\n",
      "Label: 1 , Percent Bankrupt: 1.63 %\n",
      "Label: 2 , Percent Bankrupt: 20.25 %\n",
      "Label: 3 , Percent Bankrupt: 0.0 %\n",
      "Label: 4 , Percent Bankrupt: 33.33 %\n",
      "Label: 5 , Percent Bankrupt: 2.92 %\n",
      "Label: 6 , Percent Bankrupt: 0.35 %\n"
     ]
    }
   ],
   "source": [
    "#Calculate the number of data points and bankrupt points in each cluster\n",
    "\n",
    "n_clusters=7\n",
    "\n",
    "kmeans = KMeans(n_clusters=n_clusters, random_state=42).fit(X_train_pca)\n",
    "array = kmeans.labels_\n",
    "x_points = []\n",
    "y_points = []\n",
    "for i in range(n_clusters):\n",
    "    x_points.append(i)\n",
    "    y_points.append(np.count_nonzero(array == i))\n",
    "\n",
    "    \n",
    "df_klabels = pd.DataFrame(X_train_pca) #make a copy of the train set\n",
    "df_klabels['labels'] = kmeans.labels_ #append the cluster labels to train set\n",
    "df_klabels['bankrupt'] = y_train.reset_index(drop=True) #add the company bankruptcy status\n",
    "\n",
    "#find how many of the bankrupt data matches each label\n",
    "df_bankrupt = df_klabels[df_klabels['bankrupt'] == 1] #make subset df containing only bankrupt companies\n",
    "x_points_bankrupt = []\n",
    "y_points_bankrupt = []\n",
    "for i in range(n_clusters):\n",
    "    x_points_bankrupt.append(i)\n",
    "    y_points_bankrupt.append(np.count_nonzero(df_bankrupt.labels == i))\n",
    "\n",
    "\n",
    "print(x_points)\n",
    "print(y_points)\n",
    "print(y_points_bankrupt)\n",
    "\n",
    "\n",
    "#What percent of each label is in the bankrupt class?\n",
    "for i in x_points:\n",
    "    if y_points[i] == 0:\n",
    "         print('Label:', i, ', Percent Bankrupt: 0%')\n",
    "    else:\n",
    "        print('Label:', i, ', Percent Bankrupt:', round(y_points_bankrupt[i]/y_points[i]*100,2), '%')"
   ]
  },
  {
   "cell_type": "markdown",
   "metadata": {},
   "source": [
    "From the clustering, we see that 143 (out of a total of 154) bankrupt companies are clustered under labels 4 and 5."
   ]
  },
  {
   "cell_type": "code",
   "execution_count": 16,
   "metadata": {},
   "outputs": [
    {
     "data": {
      "text/plain": [
       "(2046, 51)"
      ]
     },
     "execution_count": 16,
     "metadata": {},
     "output_type": "execute_result"
    }
   ],
   "source": [
    "#Use the kmeans to predict the labels for the test set.\n",
    "kmeans = KMeans(n_clusters=n_clusters, random_state=42).fit(X_train_pca)\n",
    "X_test_labels = kmeans.predict(X_test_pca)\n",
    "X_test_kmeans = pd.DataFrame(X_test_pca) #make a df copy of the test set so we can append the labels\n",
    "X_test_kmeans['labels'] = X_test_labels\n",
    "\n",
    "X_test_kmeans.shape\n",
    "#as expected, we have our 50 components, plus 1 column of labels."
   ]
  },
  {
   "cell_type": "code",
   "execution_count": 17,
   "metadata": {},
   "outputs": [
    {
     "data": {
      "text/plain": [
       "(4773, 51)"
      ]
     },
     "execution_count": 17,
     "metadata": {},
     "output_type": "execute_result"
    }
   ],
   "source": [
    "#using the df from earlier, drop the \"bankrupt\" column so that we have our 50 PCs and the KMeans labels.\n",
    "X_train_kmeans = df_klabels.drop(columns=['bankrupt'])\n",
    "X_train_kmeans.shape"
   ]
  },
  {
   "cell_type": "code",
   "execution_count": 18,
   "metadata": {},
   "outputs": [
    {
     "data": {
      "text/plain": [
       "((4773, 57), (2046, 57))"
      ]
     },
     "execution_count": 18,
     "metadata": {},
     "output_type": "execute_result"
    }
   ],
   "source": [
    "#One-hot-encode the \"labels\" column for both the X_test_kmeans and X_train_kmeans dataframes.\n",
    "X_train_kmeans_one_hot = pd.get_dummies(X_train_kmeans, columns=['labels'])\n",
    "X_test_kmeans_one_hot = pd.get_dummies(X_test_kmeans, columns=['labels'])\n",
    "\n",
    "#Since we have 7 clusters, and 50 PCs, we expect a total of 57 features.\n",
    "X_train_kmeans_one_hot.shape, X_test_kmeans_one_hot.shape"
   ]
  },
  {
   "cell_type": "code",
   "execution_count": 19,
   "metadata": {},
   "outputs": [
    {
     "data": {
      "text/plain": [
       "array([0, 1, 2, 3, 4, 5, 6])"
      ]
     },
     "execution_count": 19,
     "metadata": {},
     "output_type": "execute_result"
    }
   ],
   "source": [
    "#Interestingly, X_test_kmeans_one_hot has 2 fewer features than that of X_train.\n",
    "#Perhaps this is due to fewer kmeans labels. Let's check the unique values of X_test_labels.\n",
    "np.unique(X_test_labels)"
   ]
  },
  {
   "cell_type": "code",
   "execution_count": 20,
   "metadata": {},
   "outputs": [
    {
     "data": {
      "text/html": [
       "<div>\n",
       "<style scoped>\n",
       "    .dataframe tbody tr th:only-of-type {\n",
       "        vertical-align: middle;\n",
       "    }\n",
       "\n",
       "    .dataframe tbody tr th {\n",
       "        vertical-align: top;\n",
       "    }\n",
       "\n",
       "    .dataframe thead th {\n",
       "        text-align: right;\n",
       "    }\n",
       "</style>\n",
       "<table border=\"1\" class=\"dataframe\">\n",
       "  <thead>\n",
       "    <tr style=\"text-align: right;\">\n",
       "      <th></th>\n",
       "      <th>0</th>\n",
       "      <th>1</th>\n",
       "      <th>2</th>\n",
       "      <th>3</th>\n",
       "      <th>4</th>\n",
       "      <th>5</th>\n",
       "      <th>6</th>\n",
       "      <th>7</th>\n",
       "      <th>8</th>\n",
       "      <th>9</th>\n",
       "      <th>...</th>\n",
       "      <th>47</th>\n",
       "      <th>48</th>\n",
       "      <th>49</th>\n",
       "      <th>labels_0</th>\n",
       "      <th>labels_1</th>\n",
       "      <th>labels_2</th>\n",
       "      <th>labels_3</th>\n",
       "      <th>labels_4</th>\n",
       "      <th>labels_5</th>\n",
       "      <th>labels_6</th>\n",
       "    </tr>\n",
       "  </thead>\n",
       "  <tbody>\n",
       "    <tr>\n",
       "      <th>0</th>\n",
       "      <td>-0.779295</td>\n",
       "      <td>1.988687</td>\n",
       "      <td>-0.565055</td>\n",
       "      <td>-1.834919</td>\n",
       "      <td>-1.125494</td>\n",
       "      <td>-0.704060</td>\n",
       "      <td>1.346929</td>\n",
       "      <td>0.686589</td>\n",
       "      <td>0.137908</td>\n",
       "      <td>2.488554</td>\n",
       "      <td>...</td>\n",
       "      <td>-0.445269</td>\n",
       "      <td>-0.228419</td>\n",
       "      <td>0.042342</td>\n",
       "      <td>0</td>\n",
       "      <td>1</td>\n",
       "      <td>0</td>\n",
       "      <td>0</td>\n",
       "      <td>0</td>\n",
       "      <td>0</td>\n",
       "      <td>0</td>\n",
       "    </tr>\n",
       "    <tr>\n",
       "      <th>1</th>\n",
       "      <td>-1.364860</td>\n",
       "      <td>-1.320986</td>\n",
       "      <td>0.110306</td>\n",
       "      <td>0.209501</td>\n",
       "      <td>0.697517</td>\n",
       "      <td>-0.069458</td>\n",
       "      <td>0.144384</td>\n",
       "      <td>-0.736340</td>\n",
       "      <td>0.751660</td>\n",
       "      <td>-0.317079</td>\n",
       "      <td>...</td>\n",
       "      <td>0.379260</td>\n",
       "      <td>0.851112</td>\n",
       "      <td>-0.082130</td>\n",
       "      <td>0</td>\n",
       "      <td>0</td>\n",
       "      <td>0</td>\n",
       "      <td>0</td>\n",
       "      <td>0</td>\n",
       "      <td>0</td>\n",
       "      <td>0</td>\n",
       "    </tr>\n",
       "    <tr>\n",
       "      <th>2</th>\n",
       "      <td>5.274151</td>\n",
       "      <td>-2.585705</td>\n",
       "      <td>0.045713</td>\n",
       "      <td>1.925854</td>\n",
       "      <td>-0.418434</td>\n",
       "      <td>0.267947</td>\n",
       "      <td>0.626951</td>\n",
       "      <td>-0.390227</td>\n",
       "      <td>-0.224814</td>\n",
       "      <td>-1.905657</td>\n",
       "      <td>...</td>\n",
       "      <td>0.648599</td>\n",
       "      <td>0.943784</td>\n",
       "      <td>-0.310702</td>\n",
       "      <td>0</td>\n",
       "      <td>0</td>\n",
       "      <td>1</td>\n",
       "      <td>0</td>\n",
       "      <td>0</td>\n",
       "      <td>0</td>\n",
       "      <td>0</td>\n",
       "    </tr>\n",
       "    <tr>\n",
       "      <th>3</th>\n",
       "      <td>-2.650954</td>\n",
       "      <td>1.625690</td>\n",
       "      <td>-0.577226</td>\n",
       "      <td>0.719897</td>\n",
       "      <td>-2.757376</td>\n",
       "      <td>0.059717</td>\n",
       "      <td>0.652029</td>\n",
       "      <td>0.043863</td>\n",
       "      <td>-0.035776</td>\n",
       "      <td>2.137510</td>\n",
       "      <td>...</td>\n",
       "      <td>-0.020610</td>\n",
       "      <td>0.571730</td>\n",
       "      <td>0.093854</td>\n",
       "      <td>0</td>\n",
       "      <td>1</td>\n",
       "      <td>0</td>\n",
       "      <td>0</td>\n",
       "      <td>0</td>\n",
       "      <td>0</td>\n",
       "      <td>0</td>\n",
       "    </tr>\n",
       "    <tr>\n",
       "      <th>4</th>\n",
       "      <td>-10.935020</td>\n",
       "      <td>0.390758</td>\n",
       "      <td>-0.364124</td>\n",
       "      <td>0.994966</td>\n",
       "      <td>2.044332</td>\n",
       "      <td>0.465337</td>\n",
       "      <td>-1.455515</td>\n",
       "      <td>0.879704</td>\n",
       "      <td>-1.027342</td>\n",
       "      <td>-0.847959</td>\n",
       "      <td>...</td>\n",
       "      <td>-0.107238</td>\n",
       "      <td>-1.147126</td>\n",
       "      <td>0.156328</td>\n",
       "      <td>1</td>\n",
       "      <td>0</td>\n",
       "      <td>0</td>\n",
       "      <td>0</td>\n",
       "      <td>0</td>\n",
       "      <td>0</td>\n",
       "      <td>0</td>\n",
       "    </tr>\n",
       "  </tbody>\n",
       "</table>\n",
       "<p>5 rows × 57 columns</p>\n",
       "</div>"
      ],
      "text/plain": [
       "           0         1         2         3         4         5         6  \\\n",
       "0  -0.779295  1.988687 -0.565055 -1.834919 -1.125494 -0.704060  1.346929   \n",
       "1  -1.364860 -1.320986  0.110306  0.209501  0.697517 -0.069458  0.144384   \n",
       "2   5.274151 -2.585705  0.045713  1.925854 -0.418434  0.267947  0.626951   \n",
       "3  -2.650954  1.625690 -0.577226  0.719897 -2.757376  0.059717  0.652029   \n",
       "4 -10.935020  0.390758 -0.364124  0.994966  2.044332  0.465337 -1.455515   \n",
       "\n",
       "          7         8         9  ...        47        48        49  labels_0  \\\n",
       "0  0.686589  0.137908  2.488554  ... -0.445269 -0.228419  0.042342         0   \n",
       "1 -0.736340  0.751660 -0.317079  ...  0.379260  0.851112 -0.082130         0   \n",
       "2 -0.390227 -0.224814 -1.905657  ...  0.648599  0.943784 -0.310702         0   \n",
       "3  0.043863 -0.035776  2.137510  ... -0.020610  0.571730  0.093854         0   \n",
       "4  0.879704 -1.027342 -0.847959  ... -0.107238 -1.147126  0.156328         1   \n",
       "\n",
       "   labels_1  labels_2  labels_3  labels_4  labels_5  labels_6  \n",
       "0         1         0         0         0         0         0  \n",
       "1         0         0         0         0         0         0  \n",
       "2         0         1         0         0         0         0  \n",
       "3         1         0         0         0         0         0  \n",
       "4         0         0         0         0         0         0  \n",
       "\n",
       "[5 rows x 57 columns]"
      ]
     },
     "execution_count": 20,
     "metadata": {},
     "output_type": "execute_result"
    }
   ],
   "source": [
    "#There is indeed fewer labels in the test data. X_test is missing labels 3 and 6.  \n",
    "#Add labels 3 and 6 so that X_test and X_train are the same shape.\n",
    "\n",
    "X_test_kmeans_one_hot['labels_3'] = 0\n",
    "X_test_kmeans_one_hot['labels_6'] = 0\n",
    "\n",
    "\n",
    "#sort the columns so that the labels_# are in order.\n",
    "sorted_columns = [         0,          1,          2,          3,          4,          5,\n",
    "                6,          7,          8,          9,         10,         11,\n",
    "               12,         13,         14,         15,         16,         17,\n",
    "               18,         19,         20,         21,         22,         23,\n",
    "               24,         25,         26,         27,         28,         29,\n",
    "               30,         31,         32,         33,         34,         35,\n",
    "               36,         37,         38,         39,         40,         41,\n",
    "               42,         43,         44,         45,         46,         47,\n",
    "               48,         49, 'labels_0', 'labels_1', 'labels_2', 'labels_3',\n",
    "       'labels_4', 'labels_5', 'labels_6']\n",
    "\n",
    "X_test_kmeans_one_hot = X_test_kmeans_one_hot.reindex(sorted_columns, axis=1)\n",
    "\n",
    "\n",
    "#Check that this worked:\n",
    "X_test_kmeans_one_hot.head()"
   ]
  },
  {
   "cell_type": "markdown",
   "metadata": {},
   "source": [
    "At this point we have successfully preprocessed the X_train and X_test data with Scaling (np.log1p and StandardScaler), PCA (50 components), and K-Means Clustering (7 clusters). \n",
    "\n",
    "The training data is now ready for SMOTE upsampling."
   ]
  },
  {
   "cell_type": "markdown",
   "metadata": {},
   "source": [
    "## 4.6 Upsampling with SMOTE<a id='4.6'></a>\n",
    "\n",
    "As we have already seen, our dataset has a major class imbalance; only 3.23% of our dataset are bankrupt companies while the other 96.77% are non-bankrupt companies. For several types of classifiers, rebalancing the dataset can significantly improve the performance of the classifier.\n",
    "\n",
    "There are several ways to handle class imbalance. The most naive method is to generate new samples by resampling the minority class with sample replacement, but this can lead to overfitting. An alternative method is to synthesize new data using Synthetic Minority Oversampling TEchnique (SMOTE).\n",
    "\n",
    "SMOTE works by introducing synthetic examples, rather than resampling. Based on a distance metric, several nearest neighbors of the same class are selected and their features interpolated to generate new datapoints.\n",
    "\n",
    "In this section, we will use SMOTE to upsample our minority class in the training set."
   ]
  },
  {
   "cell_type": "code",
   "execution_count": 30,
   "metadata": {},
   "outputs": [
    {
     "data": {
      "image/png": "[encoded data removed]",
      "text/plain": [
       "<Figure size 432x432 with 1 Axes>"
      ]
     },
     "metadata": {
      "needs_background": "light"
     },
     "output_type": "display_data"
    }
   ],
   "source": [
    "#plot the data prior to doing SMOTE\n",
    "\n",
    "#reorg the data so that the minority class is plotted last (i.e. easier to see visually)\n",
    "clusters_bankruptcy = pd.concat([X_train_kmeans_one_hot, pd.DataFrame({'Bankruptcy':y_train.reset_index(drop=True)})], axis=1)\n",
    "clusters_bankruptcy_sorted = clusters_bankruptcy.sort_values(by=['Bankruptcy'])\n",
    "\n",
    "plt.figure(figsize = (6,6))\n",
    "sns.scatterplot(clusters_bankruptcy_sorted.iloc[:,0],clusters_bankruptcy_sorted.iloc[:,1],\n",
    "                hue=clusters_bankruptcy_sorted.Bankruptcy, palette='Set1', alpha=0.6).set_title('PCA: Company Bankruptcy')\n",
    "plt.xlabel('PC1')\n",
    "plt.ylabel('PC2')\n",
    "plt.legend()\n",
    "plt.show()"
   ]
  },
  {
   "cell_type": "code",
   "execution_count": 22,
   "metadata": {},
   "outputs": [],
   "source": [
    "# transform the dataset\n",
    "smote = SMOTE(random_state=42, k_neighbors=5, n_jobs=-1) #default k_neighbors is 5\n",
    "X_smote, y_smote = smote.fit_resample(X_train_kmeans_one_hot, y_train.reset_index(drop=True))"
   ]
  },
  {
   "cell_type": "code",
   "execution_count": 25,
   "metadata": {},
   "outputs": [
    {
     "data": {
      "text/plain": [
       "0.5"
      ]
     },
     "execution_count": 25,
     "metadata": {},
     "output_type": "execute_result"
    }
   ],
   "source": [
    "#Check to see if we have 50/50 class split for y_smote\n",
    "y_smote.sum()/y_smote.shape[0]"
   ]
  },
  {
   "cell_type": "code",
   "execution_count": 31,
   "metadata": {},
   "outputs": [
    {
     "data": {
      "image/png": "[encoded data removed]",
      "text/plain": [
       "<Figure size 432x432 with 1 Axes>"
      ]
     },
     "metadata": {
      "needs_background": "light"
     },
     "output_type": "display_data"
    }
   ],
   "source": [
    "#plot the data after doing SMOTE\n",
    "\n",
    "plt.figure(figsize = (6,6))\n",
    "sns.scatterplot(X_smote.iloc[:,0],X_smote.iloc[:,1],\n",
    "                hue=y_smote, palette='Set1', alpha=0.6).set_title('PCA: Company Bankruptcy after SMOTE')\n",
    "plt.xlabel('PC1')\n",
    "plt.ylabel('PC2')\n",
    "plt.legend()\n",
    "plt.show()"
   ]
  },
  {
   "cell_type": "markdown",
   "metadata": {},
   "source": [
    "How do we decide how many k_neighbors to select for SMOTE? We can do a gridsearch using varying values of k_neighbors, evaluate it against a model (such as RandomForestClassifier) and select the k_neighbors that leads to the largest ROC_AUC value. ROC_AUC is suitable in this case since it is being evaluated over the post-SMOTE data, so the classes are balanced. The ROC measure the FPR against the TPR."
   ]
  },
  {
   "cell_type": "code",
   "execution_count": 40,
   "metadata": {},
   "outputs": [
    {
     "name": "stdout",
     "output_type": "stream",
     "text": [
      "> k=1, Mean ROC AUC: 0.90615\n",
      "> k=2, Mean ROC AUC: 0.90944\n",
      "> k=3, Mean ROC AUC: 0.91061\n",
      "> k=4, Mean ROC AUC: 0.90877\n",
      "> k=5, Mean ROC AUC: 0.91045\n",
      "> k=6, Mean ROC AUC: 0.91047\n",
      "> k=7, Mean ROC AUC: 0.90587\n",
      "> k=8, Mean ROC AUC: 0.91191\n",
      "> k=9, Mean ROC AUC: 0.91211\n",
      "> k=10, Mean ROC AUC: 0.91215\n",
      "> k=11, Mean ROC AUC: 0.91221\n",
      "> k=12, Mean ROC AUC: 0.90974\n",
      "> k=13, Mean ROC AUC: 0.91138\n",
      "> k=14, Mean ROC AUC: 0.91024\n",
      "> k=15, Mean ROC AUC: 0.91197\n"
     ]
    }
   ],
   "source": [
    "#The following code snippet is adapted from the following article:\n",
    "# https://machinelearningmastery.com/smote-oversampling-for-imbalanced-classification/\n",
    "\n",
    "# grid search k value for SMOTE oversampling for imbalanced classification\n",
    "from numpy import mean\n",
    "from sklearn.model_selection import cross_val_score\n",
    "from sklearn.model_selection import RepeatedStratifiedKFold\n",
    "from sklearn.ensemble import RandomForestClassifier\n",
    "from imblearn.pipeline import Pipeline\n",
    "from imblearn.over_sampling import SMOTE\n",
    "from imblearn.under_sampling import RandomUnderSampler\n",
    "\n",
    "# values to evaluate\n",
    "k_values = np.arange(15)+1 #ranges from 1 to 15 neighbors\n",
    "for k in k_values:\n",
    "    \n",
    "    # define pipeline\n",
    "    model = RandomForestClassifier(random_state=42)\n",
    "    over = SMOTE(k_neighbors=k)\n",
    "#     under = RandomUnderSampler(sampling_strategy=0.5)\n",
    "#     steps = [('over', over), ('under', under), ('model', model)]\n",
    "    steps = [('over', over), ('model', model)]\n",
    "    pipeline = Pipeline(steps=steps)\n",
    "    \n",
    "    # evaluate pipeline\n",
    "    cv = RepeatedStratifiedKFold(n_splits=10, n_repeats=3, random_state=42)\n",
    "    scores = cross_val_score(pipeline, X_train_kmeans_one_hot, y_train.reset_index(drop=True), scoring='roc_auc', cv=cv, n_jobs=-1)\n",
    "    score = mean(scores)\n",
    "    print('> k=%d, Mean ROC AUC: %.5f' % (k, score))"
   ]
  },
  {
   "cell_type": "markdown",
   "metadata": {},
   "source": [
    "From the grid search, we see that k=9, 10, and 11 have the highest ROC curves, though all of them seem to perform similarly well (all of them are around 0.91).\n",
    "\n",
    "We select k=10 and re-do the SMOTE."
   ]
  },
  {
   "cell_type": "code",
   "execution_count": 41,
   "metadata": {},
   "outputs": [
    {
     "data": {
      "image/png": "[encoded data removed]",
      "text/plain": [
       "<Figure size 432x432 with 1 Axes>"
      ]
     },
     "metadata": {
      "needs_background": "light"
     },
     "output_type": "display_data"
    }
   ],
   "source": [
    "# transform the dataset\n",
    "smote = SMOTE(random_state=42, k_neighbors=10, n_jobs=-1) #default k_neighbors is 5\n",
    "X_smote, y_smote = smote.fit_resample(X_train_kmeans_one_hot, y_train.reset_index(drop=True))\n",
    "\n",
    "#plot the data after doing SMOTE\n",
    "\n",
    "plt.figure(figsize = (6,6))\n",
    "sns.scatterplot(X_smote.iloc[:,0],X_smote.iloc[:,1],\n",
    "                hue=y_smote, palette='Set1', alpha=0.6).set_title('PCA: Company Bankruptcy after SMOTE (k_neighbors=10)')\n",
    "plt.xlabel('PC1')\n",
    "plt.ylabel('PC2')\n",
    "plt.legend()\n",
    "plt.show()"
   ]
  },
  {
   "cell_type": "markdown",
   "metadata": {},
   "source": [
    "### 4.6.1 Exporting the Data<a id='4.6.1'></a>\n",
    "\n",
    "Now that we have finished our SMOTE oversampling, we can export our train set. Our test set also has labels from K-Means Clustering, so we can export that too."
   ]
  },
  {
   "cell_type": "code",
   "execution_count": 46,
   "metadata": {},
   "outputs": [],
   "source": [
    "#Export our train/test data. \n",
    "#Train set has been labeled with k-means clusters, and oversampled with SMOTE.\n",
    "#Test set has been labeled with k-means clusters.\n",
    "\n",
    "X_smote.to_csv('X_train_smote.csv')\n",
    "y_smote.to_csv('y_train_smote.csv')\n",
    "\n",
    "X_test_kmeans_one_hot.to_csv('X_test_kmeans.csv') #this is our modified test set that has one-hot encoded cluster labels\n",
    "# y_test.to_csv('y_test.csv') #this one has already been exported"
   ]
  },
  {
   "cell_type": "markdown",
   "metadata": {},
   "source": [
    "## 4.7 Baseline Model: Logistic Regression<a id='4.7'></a>\n",
    "\n",
    "For classification problems, logistic regression is one of the simplest methods. We use logistic regression here as a \"baseline\" model, allowing us to see what our evaluation metrics may be. We will look at the confusion matrix, accuracy, F1-score, precision, and recall to evaluate the performance of the model.\n",
    "\n",
    "We will also do a simple comparison between the results from our unprocessed train/test data (X_train, y_train, X_test, y_test) and post-processed train-test data (X_smote, y_smote, X_test_kmeans_one_hot, y_test)."
   ]
  },
  {
   "cell_type": "code",
   "execution_count": 64,
   "metadata": {},
   "outputs": [
    {
     "name": "stderr",
     "output_type": "stream",
     "text": [
      "C:\\Users\\grace\\anaconda3\\envs\\TestEnv9\\lib\\site-packages\\sklearn\\model_selection\\_search.py:918: UserWarning: One or more of the test scores are non-finite: [       nan        nan        nan        nan        nan        nan\n",
      "        nan 0.88990927        nan        nan        nan        nan\n",
      "        nan        nan        nan        nan 0.87572885        nan\n",
      "        nan        nan        nan        nan        nan        nan\n",
      "        nan 0.89889477        nan        nan 0.89034217 0.89889477\n",
      "        nan        nan        nan        nan 0.89001749        nan\n",
      "        nan        nan        nan        nan        nan        nan\n",
      "        nan        nan        nan        nan        nan        nan\n",
      "        nan 0.84855872 0.89044993        nan        nan 0.86977565\n",
      "        nan        nan        nan        nan        nan        nan\n",
      " 0.86825921        nan        nan        nan        nan        nan\n",
      "        nan        nan 0.89856939        nan        nan        nan\n",
      "        nan        nan        nan        nan        nan 0.89856939\n",
      " 0.89034205        nan        nan        nan        nan        nan\n",
      "        nan 0.86317239        nan        nan 0.89001749 0.89965223\n",
      "        nan        nan 0.87865163        nan 0.89066684        nan\n",
      "        nan        nan        nan        nan        nan 0.89889477\n",
      " 0.89856951 0.85591955        nan 0.88752726        nan 0.891533\n",
      " 0.8986782  0.89954388        nan        nan        nan        nan\n",
      "        nan        nan        nan        nan        nan        nan\n",
      "        nan        nan        nan        nan        nan        nan\n",
      " 0.891533          nan 0.87691944        nan        nan        nan\n",
      "        nan        nan        nan        nan        nan 0.89099164\n",
      "        nan        nan        nan        nan        nan 0.79594971\n",
      " 0.849317          nan        nan        nan        nan        nan\n",
      "        nan        nan        nan        nan        nan 0.89001749\n",
      "        nan        nan        nan        nan        nan 0.84888316\n",
      "        nan        nan        nan        nan 0.89077484        nan\n",
      " 0.8901256         nan 0.891533          nan        nan 0.891533\n",
      "        nan        nan        nan        nan        nan        nan\n",
      "        nan        nan        nan        nan        nan        nan\n",
      " 0.89001749        nan        nan 0.89954388        nan        nan\n",
      "        nan 0.89001749        nan        nan        nan        nan\n",
      "        nan        nan 0.891533   0.89954388 0.89001749        nan\n",
      "        nan        nan        nan 0.73782063        nan        nan\n",
      "        nan        nan        nan 0.89055827        nan        nan\n",
      " 0.88352282        nan        nan        nan 0.85343014        nan\n",
      " 0.89889477        nan 0.89889477        nan        nan 0.89878642\n",
      "        nan        nan        nan        nan        nan 0.89889477\n",
      "        nan        nan        nan        nan        nan        nan\n",
      "        nan 0.90008513        nan        nan        nan        nan\n",
      "        nan        nan        nan        nan        nan        nan\n",
      "        nan        nan        nan        nan 0.89218305        nan\n",
      "        nan        nan        nan        nan        nan        nan\n",
      "        nan        nan        nan        nan        nan 0.89889442\n",
      "        nan        nan        nan        nan        nan        nan\n",
      "        nan        nan        nan        nan        nan        nan\n",
      "        nan        nan        nan        nan        nan 0.87020878\n",
      " 0.89889477        nan        nan        nan 0.89889477        nan\n",
      "        nan        nan        nan        nan        nan 0.89889477\n",
      "        nan        nan        nan        nan 0.89694578        nan\n",
      "        nan        nan        nan        nan        nan        nan\n",
      "        nan        nan 0.73749595        nan        nan 0.85916677\n",
      "        nan        nan        nan        nan        nan        nan\n",
      "        nan        nan 0.89229139        nan        nan        nan\n",
      "        nan 0.89889477        nan 0.86598742        nan        nan\n",
      "        nan        nan        nan        nan        nan        nan\n",
      "        nan        nan        nan        nan 0.77776437 0.89001749\n",
      "        nan        nan 0.86371293 0.73749595        nan        nan\n",
      "        nan        nan        nan        nan        nan 0.89889477\n",
      "        nan        nan        nan        nan 0.89889477        nan\n",
      "        nan        nan        nan        nan        nan        nan\n",
      "        nan        nan 0.73901193        nan 0.88092412        nan\n",
      "        nan        nan        nan 0.89889477        nan        nan\n",
      "        nan        nan        nan        nan        nan        nan\n",
      "        nan        nan        nan        nan        nan        nan\n",
      " 0.89001738        nan        nan        nan 0.73749595        nan\n",
      "        nan        nan 0.86458014        nan        nan        nan\n",
      "        nan        nan        nan 0.89889477 0.89120809        nan\n",
      "        nan        nan        nan        nan        nan 0.87345507\n",
      "        nan 0.73749595        nan        nan        nan 0.89077484\n",
      "        nan        nan        nan        nan        nan        nan\n",
      "        nan 0.89954388 0.89889477        nan        nan        nan\n",
      " 0.89889477 0.85159031        nan        nan 0.88990903        nan\n",
      " 0.89954388        nan        nan        nan        nan        nan\n",
      "        nan 0.89055827        nan        nan        nan 0.84801736\n",
      "        nan        nan 0.8907746         nan        nan        nan\n",
      "        nan        nan 0.89889477        nan        nan        nan\n",
      " 0.73749595        nan        nan        nan        nan 0.87031654\n",
      "        nan        nan        nan        nan 0.89662087        nan\n",
      "        nan        nan        nan 0.89889477        nan        nan\n",
      "        nan        nan        nan        nan 0.89889477        nan\n",
      "        nan        nan 0.73803743        nan        nan        nan\n",
      " 0.85743529        nan]\n",
      "  warnings.warn(\n"
     ]
    },
    {
     "name": "stdout",
     "output_type": "stream",
     "text": [
      "Best Estimator: LogisticRegression(C=0.5878016072274912, fit_intercept=False, l1_ratio=0.5,\n",
      "                   multi_class='multinomial', n_jobs=-1, penalty='elasticnet',\n",
      "                   random_state=42, solver='saga')\n",
      "\n",
      "Best Params: {'solver': 'saga', 'multi_class': 'multinomial', 'l1_ratio': 0.5, 'fit_intercept': False, 'C': 0.5878016072274912}\n",
      "\n",
      "Best Score: 0.9000851261414642\n",
      "\n",
      "Logistic Regression: Accuracy=0.8773\n",
      "Logistic Regression: f1-score=0.9119\n",
      "Logistic Regression: precision=0.1731\n",
      "Logistic Regression: recall=0.7424\n",
      "\n",
      "Confusion Matrix without Normalization\n",
      "[[1746  234]\n",
      " [  17   49]]\n",
      "\n",
      "Confusion Matrix with Normalization\n",
      "[[0.88 0.12]\n",
      " [0.26 0.74]]\n",
      "\n",
      "Total Time: 150.9428653717041\n"
     ]
    },
    {
     "name": "stderr",
     "output_type": "stream",
     "text": [
      "C:\\Users\\grace\\anaconda3\\envs\\TestEnv9\\lib\\site-packages\\sklearn\\linear_model\\_sag.py:328: ConvergenceWarning: The max_iter was reached which means the coef_ did not converge\n",
      "  warnings.warn(\"The max_iter was reached which means \"\n"
     ]
    }
   ],
   "source": [
    "#Run a RandomizedSearchCV for hyperparameter tuning on LogisticRegression.\n",
    "#Train on X_smote and y_smote.\n",
    "\n",
    "start_time = time.time()\n",
    "\n",
    "c = np.logspace(-4, 3, num=40, base=10.0, dtype=np.float64)  # make a list of C parameters, from 0.0001 to 1000.\n",
    "l1_ratio = np.linspace(0, 1, num=21) #make a list of l1_ratio parameters, from 0 to 1.\n",
    "parameters= {'C':list(c), \n",
    "             'fit_intercept':[True, False], \n",
    "             'solver':['newton-cg', 'lbfgs', 'liblinear', 'sag', 'saga'], \n",
    "             'multi_class':['auto', 'ovr', 'multinomial'], \n",
    "             'l1_ratio':list(l1_ratio) #only valid when penalty is elasticnet\n",
    "            } \n",
    "\n",
    "lr = LogisticRegression(random_state=42, penalty = 'elasticnet', n_jobs=-1)\n",
    "clf = sklearn.model_selection.RandomizedSearchCV(lr, \n",
    "                                                 param_distributions=parameters, \n",
    "                                                 n_iter=500,\n",
    "                                                 cv=10, \n",
    "                                                 n_jobs=-1, \n",
    "                                                 random_state=42\n",
    "                                                )\n",
    "clf.fit(X_smote, y_smote)\n",
    "print(\"Best Estimator:\", clf.best_estimator_)\n",
    "print()\n",
    "print(\"Best Params:\", clf.best_params_)\n",
    "print()\n",
    "print(\"Best Score:\", clf.best_score_)\n",
    "print()\n",
    "\n",
    "y_pred = clf.predict(X_test_kmeans_one_hot)\n",
    "ac = accuracy_score(y_test, y_pred)\n",
    "f1 = f1_score(y_test, y_pred, average='weighted')\n",
    "pr = precision_score(y_test, y_pred)\n",
    "re = recall_score(y_test, y_pred)\n",
    "cm = confusion_matrix(y_test, y_pred)\n",
    "\n",
    "print('Logistic Regression: Accuracy=%.4f' % (ac))\n",
    "print('Logistic Regression: f1-score=%.4f' % (f1))\n",
    "print('Logistic Regression: precision=%.4f' % (pr))\n",
    "print('Logistic Regression: recall=%.4f' % (re))\n",
    "print()\n",
    "print('Confusion Matrix without Normalization')\n",
    "print(cm)\n",
    "print()\n",
    "print('Confusion Matrix with Normalization')\n",
    "print((cm.astype('float') / cm.sum(axis=1)[:, np.newaxis]).round(2))\n",
    "\n",
    "print()\n",
    "print('Total Time:', time.time() - start_time)"
   ]
  },
  {
   "cell_type": "code",
   "execution_count": 65,
   "metadata": {},
   "outputs": [
    {
     "name": "stderr",
     "output_type": "stream",
     "text": [
      "C:\\Users\\grace\\anaconda3\\envs\\TestEnv9\\lib\\site-packages\\sklearn\\model_selection\\_search.py:918: UserWarning: One or more of the test scores are non-finite: [       nan        nan        nan        nan        nan        nan\n",
      "        nan 0.96228871        nan        nan        nan        nan\n",
      "        nan        nan        nan        nan 0.96228871        nan\n",
      "        nan        nan        nan        nan        nan        nan\n",
      "        nan 0.96228871        nan        nan 0.96270712 0.96228871\n",
      "        nan        nan        nan        nan 0.96228871        nan\n",
      "        nan        nan        nan        nan        nan        nan\n",
      "        nan        nan        nan        nan        nan        nan\n",
      "        nan 0.96270712 0.96228871        nan        nan 0.96228871\n",
      "        nan        nan        nan        nan        nan        nan\n",
      " 0.96228871        nan        nan        nan        nan        nan\n",
      "        nan        nan 0.96228871        nan        nan        nan\n",
      "        nan        nan        nan        nan        nan 0.96270712\n",
      " 0.96228871        nan        nan        nan        nan        nan\n",
      "        nan 0.96270712        nan        nan 0.96228871 0.96270712\n",
      "        nan        nan 0.96270712        nan 0.96228871        nan\n",
      "        nan        nan        nan        nan        nan 0.96228871\n",
      " 0.96228871 0.96228871        nan 0.96270712        nan 0.96270712\n",
      " 0.96228871 0.96270712        nan        nan        nan        nan\n",
      "        nan        nan        nan        nan        nan        nan\n",
      "        nan        nan        nan        nan        nan        nan\n",
      " 0.96270712        nan 0.96228871        nan        nan        nan\n",
      "        nan        nan        nan        nan        nan 0.96270712\n",
      "        nan        nan        nan        nan        nan 0.96228871\n",
      " 0.96270712        nan        nan        nan        nan        nan\n",
      "        nan        nan        nan        nan        nan 0.96228871\n",
      "        nan        nan        nan        nan        nan 0.96228871\n",
      "        nan        nan        nan        nan 0.96228871        nan\n",
      " 0.96228871        nan 0.96270712        nan        nan 0.96270712\n",
      "        nan        nan        nan        nan        nan        nan\n",
      "        nan        nan        nan        nan        nan        nan\n",
      " 0.96228871        nan        nan 0.96270712        nan        nan\n",
      "        nan 0.96228871        nan        nan        nan        nan\n",
      "        nan        nan 0.96270712 0.96270712 0.96228871        nan\n",
      "        nan        nan        nan 0.96228871        nan        nan\n",
      "        nan        nan        nan 0.96228871        nan        nan\n",
      " 0.96270712        nan        nan        nan 0.96270712        nan\n",
      " 0.96228871        nan 0.96228871        nan        nan 0.96228871\n",
      "        nan        nan        nan        nan        nan 0.96228871\n",
      "        nan        nan        nan        nan        nan        nan\n",
      "        nan 0.96270712        nan        nan        nan        nan\n",
      "        nan        nan        nan        nan        nan        nan\n",
      "        nan        nan        nan        nan 0.96228871        nan\n",
      "        nan        nan        nan        nan        nan        nan\n",
      "        nan        nan        nan        nan        nan 0.96228871\n",
      "        nan        nan        nan        nan        nan        nan\n",
      "        nan        nan        nan        nan        nan        nan\n",
      "        nan        nan        nan        nan        nan 0.96228871\n",
      " 0.96228871        nan        nan        nan 0.96228871        nan\n",
      "        nan        nan        nan        nan        nan 0.96228871\n",
      "        nan        nan        nan        nan 0.96228871        nan\n",
      "        nan        nan        nan        nan        nan        nan\n",
      "        nan        nan 0.96270712        nan        nan 0.96228871\n",
      "        nan        nan        nan        nan        nan        nan\n",
      "        nan        nan 0.96228871        nan        nan        nan\n",
      "        nan 0.96228871        nan 0.96228871        nan        nan\n",
      "        nan        nan        nan        nan        nan        nan\n",
      "        nan        nan        nan        nan 0.96228871 0.96228871\n",
      "        nan        nan 0.96270712 0.96270712        nan        nan\n",
      "        nan        nan        nan        nan        nan 0.96228871\n",
      "        nan        nan        nan        nan 0.96228871        nan\n",
      "        nan        nan        nan        nan        nan        nan\n",
      "        nan        nan 0.96228871        nan 0.96228871        nan\n",
      "        nan        nan        nan 0.96228871        nan        nan\n",
      "        nan        nan        nan        nan        nan        nan\n",
      "        nan        nan        nan        nan        nan        nan\n",
      " 0.96228871        nan        nan        nan 0.96228871        nan\n",
      "        nan        nan 0.96270712        nan        nan        nan\n",
      "        nan        nan        nan 0.96228871 0.96270712        nan\n",
      "        nan        nan        nan        nan        nan 0.96270712\n",
      "        nan 0.96228871        nan        nan        nan 0.96228871\n",
      "        nan        nan        nan        nan        nan        nan\n",
      "        nan 0.96270712 0.96228871        nan        nan        nan\n",
      " 0.96228871 0.96228871        nan        nan 0.96228871        nan\n",
      " 0.96270712        nan        nan        nan        nan        nan\n",
      "        nan 0.96228871        nan        nan        nan 0.96228871\n",
      "        nan        nan 0.96228871        nan        nan        nan\n",
      "        nan        nan 0.96228871        nan        nan        nan\n",
      " 0.96228871        nan        nan        nan        nan 0.96270712\n",
      "        nan        nan        nan        nan 0.96228871        nan\n",
      "        nan        nan        nan 0.96228871        nan        nan\n",
      "        nan        nan        nan        nan 0.96228871        nan\n",
      "        nan        nan 0.96228871        nan        nan        nan\n",
      " 0.96270712        nan]\n",
      "  warnings.warn(\n"
     ]
    },
    {
     "name": "stdout",
     "output_type": "stream",
     "text": [
      "Best Estimator: LogisticRegression(C=0.04923882631706741, l1_ratio=0.8,\n",
      "                   multi_class='multinomial', n_jobs=-1, penalty='elasticnet',\n",
      "                   random_state=42, solver='saga')\n",
      "\n",
      "Best Params: {'solver': 'saga', 'multi_class': 'multinomial', 'l1_ratio': 0.8, 'fit_intercept': True, 'C': 0.04923882631706741}\n",
      "\n",
      "Best Score: 0.9627071217424102\n",
      "\n",
      "Logistic Regression: Accuracy=0.9619\n",
      "Logistic Regression: f1-score=0.9489\n",
      "Logistic Regression: precision=0.0000\n",
      "Logistic Regression: recall=0.0000\n",
      "\n",
      "Confusion Matrix without Normalization\n",
      "[[1968   12]\n",
      " [  66    0]]\n",
      "\n",
      "Confusion Matrix with Normalization\n",
      "[[0.99 0.01]\n",
      " [1.   0.  ]]\n",
      "\n",
      "Total Time: 138.25750136375427\n"
     ]
    },
    {
     "name": "stderr",
     "output_type": "stream",
     "text": [
      "C:\\Users\\grace\\anaconda3\\envs\\TestEnv9\\lib\\site-packages\\sklearn\\linear_model\\_sag.py:328: ConvergenceWarning: The max_iter was reached which means the coef_ did not converge\n",
      "  warnings.warn(\"The max_iter was reached which means \"\n"
     ]
    }
   ],
   "source": [
    "#Do the same as before, except using X_train, y_train, X_test, y_test.\n",
    "\n",
    "start_time = time.time()\n",
    "\n",
    "c = np.logspace(-4, 3, num=40, base=10.0, dtype=np.float64)  # make a list of C parameters, from 0.0001 to 1000.\n",
    "l1_ratio = np.linspace(0, 1, num=21) #make a list of l1_ratio parameters, from 0 to 1.\n",
    "parameters= {'C':list(c), \n",
    "             'fit_intercept':[True, False], \n",
    "             'solver':['newton-cg', 'lbfgs', 'liblinear', 'sag', 'saga'], \n",
    "             'multi_class':['auto', 'ovr', 'multinomial'], \n",
    "             'l1_ratio':list(l1_ratio) #only valid when penalty is elasticnet\n",
    "            } \n",
    "\n",
    "lr = LogisticRegression(random_state=42, penalty = 'elasticnet', n_jobs=-1)\n",
    "clf = sklearn.model_selection.RandomizedSearchCV(lr, \n",
    "                                                 param_distributions=parameters, \n",
    "                                                 n_iter=500,\n",
    "                                                 cv=10, \n",
    "                                                 n_jobs=-1, \n",
    "                                                 random_state=42\n",
    "                                                )\n",
    "clf.fit(X_train, y_train)\n",
    "print(\"Best Estimator:\", clf.best_estimator_)\n",
    "print()\n",
    "print(\"Best Params:\", clf.best_params_)\n",
    "print()\n",
    "print(\"Best Score:\", clf.best_score_)\n",
    "print()\n",
    "\n",
    "y_pred = clf.predict(X_test)\n",
    "ac = accuracy_score(y_test, y_pred)\n",
    "f1 = f1_score(y_test, y_pred, average='weighted')\n",
    "pr = precision_score(y_test, y_pred)\n",
    "re = recall_score(y_test, y_pred)\n",
    "cm = confusion_matrix(y_test, y_pred)\n",
    "\n",
    "print('Logistic Regression: Accuracy=%.4f' % (ac))\n",
    "print('Logistic Regression: f1-score=%.4f' % (f1))\n",
    "print('Logistic Regression: precision=%.4f' % (pr))\n",
    "print('Logistic Regression: recall=%.4f' % (re))\n",
    "print()\n",
    "print('Confusion Matrix without Normalization')\n",
    "print(cm)\n",
    "print()\n",
    "print('Confusion Matrix with Normalization')\n",
    "print((cm.astype('float') / cm.sum(axis=1)[:, np.newaxis]).round(2))\n",
    "\n",
    "print()\n",
    "print('Total Time:', time.time() - start_time)"
   ]
  },
  {
   "cell_type": "markdown",
   "metadata": {},
   "source": [
    "In our baseline model, we already see differences in the results based on whether the training data was processed or not.\n",
    "\n",
    "For the processed data (i.e. scaled, reduced with PCA, labeled with K-Means clustering), we receive the following results:\n",
    "* __Best Estimator:__ LogisticRegression(C=0.5878016072274912, fit_intercept=False, l1_ratio=0.5, multi_class='multinomial', n_jobs=-1, penalty='elasticnet', random_state=42, solver='saga')\n",
    "* __Best Params:__ {'solver': 'saga', 'multi_class': 'multinomial', 'l1_ratio': 0.5, 'fit_intercept': False, 'C': 0.5878016072274912}\n",
    "* __Best Score:__ 0.9001\n",
    "* __Accuracy:__ 0.8773\n",
    "* __F1-Score:__ 0.9119\n",
    "* __Precision:__ 0.1731\n",
    "* __Recall:__ 0.7424\n",
    "* Confusion Matrix without Normalization\n",
    "        [[1746  234]\n",
    "         [  17   49]]\n",
    "* Confusion Matrix with Normalization\n",
    "        [[0.88 0.12]\n",
    "         [0.26 0.74]]\n",
    " \n",
    " \n",
    "For the unprocessed data (i.e. the data from the train/test split), we receive the following results:\n",
    "* __Best Estimator:__ LogisticRegression(C=0.04923882631706741, l1_ratio=0.8, multi_class='multinomial', n_jobs=-1, penalty='elasticnet', random_state=42, solver='saga')\n",
    "* __Best Params:__ {'solver': 'saga', 'multi_class': 'multinomial', 'l1_ratio': 0.8, 'fit_intercept': True, 'C': 0.04923882631706741}\n",
    "* __Best Score:__ 0.9627\n",
    "* __Accuracy:__ 0.9619\n",
    "* __F1-Score:__ 0.9489\n",
    "* __Precision:__ 0.0000\n",
    "* __Recall:__ 0.0000\n",
    "* Confusion Matrix without Normalization\n",
    "        [[1968   12]\n",
    "         [  66    0]]\n",
    "* Confusion Matrix with Normalization\n",
    "        [[0.99 0.01]\n",
    "         [1.   0.  ]]\n",
    "\n",
    "\n",
    "From the results, we see that both models had some similar hyperparameters. 'multi_class': 'multinomial' and 'solver': 'saga' was selected for both models. 'l1_ratio', 'fit_intercept', and 'C' were different between the two.\n",
    "\n",
    "What is most striking are the evaluation metrics. At first the processed data appears have lower accuracy and F1-score than that of the unprocessed data. But precision and recall are both 0 for the unprocessed data, because there was not a single bankrupt company that was sorted into the correct class. It is as if the model simply placed every data point into the majority class.\n",
    "\n",
    "What we can see from this exercise is that, at least against a simple model like LogisticRegression(), using SMOTE to upsample our minority class greatly improves the performance of the model."
   ]
  },
  {
   "cell_type": "markdown",
   "metadata": {},
   "source": [
    "## 4.8 Summary and Next Steps<a id='4.8'></a>"
   ]
  },
  {
   "cell_type": "markdown",
   "metadata": {},
   "source": [
    "__Summary:__\n",
    "\n",
    "In this notebook, we did the following:\n",
    "1. We conducted a 70/30 train/test split.\n",
    "2. We scaled and processed the training data in the same way as we did in the previous notebook: scale with np.log1p and StandardScaler, dimensionality reduction with PCA, and generate labels with K-Mean Clustering. The K-Means cluster labels were also one-hot-encoded.\n",
    "    * We used n_clusters=7 for K-Means clustering.\n",
    "    * Note: all transformations were fit to the training data, and transformed both the train and test sets. Care was taken to not allow anything to be fitted on the test data, as that would pollute the test data.\n",
    "3. We exported the unprocessed and processed data.\n",
    "    * X_train, y_train, X_test, and y_test were exported as unprocessed data.\n",
    "    * X_smote, y_smote, X_test_kmeans were exported as processed \n",
    "4. We upsampled the minority class (bankrupt companies) with Synthetic Minority Oversampling TEchnique (SMOTE).\n",
    "    * We used GridSearchCV to select k=10 neighbors when conducting SMOTE.\n",
    "5. We ran Logistic Regression as a baseline model against the training data, and did hyperparameter tuning to optimize the model before comparing the evaluation metrics between the datasets.\n",
    "\n",
    "In the results of our baseline model, we saw that without SMOTE to upsample our minority class, the model sorted everything into the majority class, resulting in 0 true positives. A more robust classifier (such as RandomForest or XG Boost) may be able to make better predictions on the unprocessed data. But it is clear that using SMOTE to upsample our minority class greatly improves the performance of the baseline model.\n",
    "\n",
    "\n",
    "\n",
    "__Next Steps:__\n",
    "\n",
    "In the next notebook, \"Step 5 - Modeling\", we will develop a pipeline that scales the data, reduces the dimensions with PCA, labels with KMeans, upsamples with SMOTE, and models the data with either Logistic Regression (as a baseline), Random Forest, or XG Boost. \n",
    "\n",
    "We will conduct hyperparameter tuning on the pipeline, and compile a table of results."
   ]
  }
 ],
 "metadata": {
  "kernelspec": {
   "display_name": "Python 3",
   "language": "python",
   "name": "python3"
  },
  "language_info": {
   "codemirror_mode": {
    "name": "ipython",
    "version": 3
   },
   "file_extension": ".py",
   "mimetype": "text/x-python",
   "name": "python",
   "nbconvert_exporter": "python",
   "pygments_lexer": "ipython3",
   "version": "3.8.3"
  }
 },
 "nbformat": 4,
 "nbformat_minor": 4
}
